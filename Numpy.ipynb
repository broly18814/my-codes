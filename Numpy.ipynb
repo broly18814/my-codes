{
 "cells": [
  {
   "cell_type": "code",
   "execution_count": 17,
   "id": "71b0d6a3-1e09-44d6-a9d3-f0f20c06611b",
   "metadata": {},
   "outputs": [],
   "source": [
    "import numpy as np"
   ]
  },
  {
   "cell_type": "code",
   "execution_count": 18,
   "id": "9e03610f",
   "metadata": {},
   "outputs": [
    {
     "name": "stdout",
     "output_type": "stream",
     "text": [
      "Array: [1 2 3 4 5]\n"
     ]
    }
   ],
   "source": [
    "arr1 = np.array([1, 2, 3, 4, 5])\n",
    "print(\"Array:\", arr1)"
   ]
  },
  {
   "cell_type": "code",
   "execution_count": 19,
   "id": "c2305ceb",
   "metadata": {},
   "outputs": [
    {
     "name": "stdout",
     "output_type": "stream",
     "text": [
      "Data type: int64\n",
      "Shape: (5,)\n",
      "Size: 5\n"
     ]
    }
   ],
   "source": [
    "print(\"Data type:\", arr1.dtype)\n",
    "print(\"Shape:\", arr1.shape) \n",
    "print(\"Size:\", arr1.size)"
   ]
  },
  {
   "cell_type": "code",
   "execution_count": 20,
   "id": "c0413974",
   "metadata": {},
   "outputs": [
    {
     "name": "stdout",
     "output_type": "stream",
     "text": [
      "(6,)\n",
      "(1, 6)\n",
      "[[1 2 3 4 5 6]]\n"
     ]
    }
   ],
   "source": [
    "arr=np.array([1, 2, 3, 4, 5, 6])\n",
    "print(arr.shape)\n",
    "arr = arr.reshape(1, 6)\n",
    "print(arr.shape)\n",
    "print(arr)"
   ]
  },
  {
   "cell_type": "code",
   "execution_count": 21,
   "id": "9f792ffe",
   "metadata": {},
   "outputs": [
    {
     "name": "stdout",
     "output_type": "stream",
     "text": [
      "2D Array:\n",
      " [[1 2 3]\n",
      " [4 5 6]]\n",
      "Shape: (2, 3)\n",
      "Size: 6\n",
      "Data type: int64\n",
      "Number of dimensions: 2\n"
     ]
    }
   ],
   "source": [
    "arr2= np.array([[1, 2, 3], [4, 5, 6]])\n",
    "print(\"2D Array:\\n\", arr2)\n",
    "print(\"Shape:\", arr2.shape)\n",
    "print(\"Size:\", arr2.size)\n",
    "print(\"Data type:\", arr2.dtype)\n",
    "print(\"Number of dimensions:\", arr2.ndim)"
   ]
  },
  {
   "cell_type": "code",
   "execution_count": 22,
   "id": "27d3cddd",
   "metadata": {},
   "outputs": [
    {
     "name": "stdout",
     "output_type": "stream",
     "text": [
      "1D Array: [1 2 3 4 5]\n",
      "Data type: int64\n",
      "Shape: (5,)\n",
      "Size: 5\n",
      "\n",
      "2D Array:\n",
      " [[1 2 3]\n",
      " [4 5 6]]\n",
      "Shape: (2, 3)\n",
      "Size: 6\n",
      "Number of dimensions: 2\n",
      "\n",
      "Original Array: [1 2 3 4 5 6]\n",
      "Reshaped Array (2x3):\n",
      " [[1 2 3]\n",
      " [4 5 6]]\n",
      "\n",
      "Array of Zeros (2x3):\n",
      " [[0. 0. 0.]\n",
      " [0. 0. 0.]]\n",
      "\n",
      "Array of Ones (3x2):\n",
      " [[1. 1.]\n",
      " [1. 1.]\n",
      " [1. 1.]]\n",
      "\n",
      "Identity Matrix (3x3):\n",
      " [[1. 0. 0.]\n",
      " [0. 1. 0.]\n",
      " [0. 0. 1.]]\n",
      "\n",
      "Random Array (2x3):\n",
      " [[0.4803505  0.18768998 0.46378894]\n",
      " [0.46310779 0.03029182 0.59395209]]\n",
      "\n",
      "Concatenated Array: [1 2 3 4 5 6]\n",
      "\n",
      "Split Arrays: [array([1, 2]), array([3, 4]), array([5, 6])]\n",
      "\n",
      "Transposed Array:\n",
      " [[1 4]\n",
      " [2 5]\n",
      " [3 6]]\n",
      "\n",
      "Matrix Product:\n",
      " [[19 22]\n",
      " [43 50]]\n",
      "\n",
      "Sum: 15\n",
      "Mean: 3.0\n",
      "Standard Deviation: 1.4142135623730951\n",
      "Variance: 2.0\n",
      "Min: 1\n",
      "Max: 5\n",
      "Index of Min: 0\n",
      "Index of Max: 4\n",
      "\n",
      "Unique Elements: [1 2 3 4 5]\n"
     ]
    }
   ],
   "source": [
    "## Attributes of numpy arrays\n",
    "# dtype: Data type of the array elements\n",
    "# shape: Dimensions of the array\n",
    "# size: Total number of elements in the array\n",
    "# ndim: Number of dimensions (axes) of the array\n",
    "# reshape: Change the shape of the array without changing its data\n",
    "# flatten: Convert a multi-dimensional array into a 1D array\n",
    "# arange: Create arrays with regularly spaced values\n",
    "# linspace: Create arrays with a specified number of evenly spaced values over a specified interval\n",
    "# zeros: Create an array filled with zeros\n",
    "# ones: Create an array filled with ones\n",
    "# eye: Create an identity matrix\n",
    "# random: Generate arrays with random values\n",
    "# concatenate: Join two or more arrays along an axis\n",
    "# split: Split an array into multiple sub-arrays\n",
    "# transpose: Swap the axes of an array\n",
    "# dot: Perform matrix multiplication\n",
    "# sum, mean, std, var: Statistical operations on arrays\n",
    "# min, max: Find the minimum and maximum values in an array\n",
    "# argmin, argmax: Find the indices of the minimum and maximum values in an array\n",
    "# unique: Find the unique elements in an array\n",
    "# sort: Sort the elements of an array\n",
    "## Examples\n",
    "import numpy as np\n",
    "# Creating a 1D array\n",
    "arr1 = np.array([1, 2, 3, 4, 5])\n",
    "print(\"1D Array:\", arr1)\n",
    "print(\"Data type:\", arr1.dtype)\n",
    "print(\"Shape:\", arr1.shape)\n",
    "print(\"Size:\", arr1.size)\n",
    "# Creating a 2D array\n",
    "arr2 = np.array([[1, 2, 3], [4, 5, 6]])\n",
    "print(\"\\n2D Array:\\n\", arr2)\n",
    "print(\"Shape:\", arr2.shape)\n",
    "print(\"Size:\", arr2.size)\n",
    "print(\"Number of dimensions:\", arr2.ndim)\n",
    "# Reshaping an array\n",
    "arr3 = np.array([1, 2, 3, 4, 5, 6])\n",
    "print(\"\\nOriginal Array:\", arr3)\n",
    "reshaped_arr = arr3.reshape(2, 3)\n",
    "print(\"Reshaped Array (2x3):\\n\", reshaped_arr)\n",
    "# Creating an array of zeros\n",
    "zeros_arr = np.zeros((2, 3))\n",
    "print(\"\\nArray of Zeros (2x3):\\n\", zeros_arr)\n",
    "# Creating an array of ones\n",
    "ones_arr = np.ones((3, 2))\n",
    "print(\"\\nArray of Ones (3x2):\\n\", ones_arr)\n",
    "# Creating an identity matrix\n",
    "identity_matrix = np.eye(3)\n",
    "print(\"\\nIdentity Matrix (3x3):\\n\", identity_matrix)\n",
    "# Generating an array with random values\n",
    "random_arr = np.random.rand(2, 3)\n",
    "print(\"\\nRandom Array (2x3):\\n\", random_arr)\n",
    "# Concatenating two arrays\n",
    "arr4 = np.array([1, 2, 3])\n",
    "arr5 = np.array([4, 5, 6])\n",
    "concatenated_arr = np.concatenate((arr4, arr5))\n",
    "print(\"\\nConcatenated Array:\", concatenated_arr)\n",
    "# Splitting an array\n",
    "split_arr = np.array([1, 2, 3, 4, 5, 6])\n",
    "sub_arrays = np.split(split_arr, 3)\n",
    "print(\"\\nSplit Arrays:\", sub_arrays)\n",
    "# Transposing an array\n",
    "transposed_arr = arr2.T\n",
    "print(\"\\nTransposed Array:\\n\", transposed_arr)\n",
    "# Matrix multiplication\n",
    "mat1 = np.array([[1, 2], [3, 4]])\n",
    "mat2 = np.array([[5, 6], [7, 8]])\n",
    "matrix_product = np.dot(mat1, mat2)\n",
    "print(\"\\nMatrix Product:\\n\", matrix_product)\n",
    "# Statistical operations\n",
    "stats_arr = np.array([1, 2, 3, 4, 5])\n",
    "print(\"\\nSum:\", np.sum(stats_arr))\n",
    "print(\"Mean:\", np.mean(stats_arr))\n",
    "print(\"Standard Deviation:\", np.std(stats_arr))\n",
    "print(\"Variance:\", np.var(stats_arr))\n",
    "print(\"Min:\", np.min(stats_arr))\n",
    "print(\"Max:\", np.max(stats_arr))\n",
    "print(\"Index of Min:\", np.argmin(stats_arr))\n",
    "print(\"Index of Max:\", np.argmax(stats_arr))\n",
    "# Finding unique elements\n",
    "unique_arr = np.array([1, 2, 2, 3, 4, 4, 5])\n",
    "unique_elements = np.unique(unique_arr)\n",
    "print(\"\\nUnique Elements:\", unique_elements)"
   ]
  },
  {
   "cell_type": "code",
   "execution_count": 23,
   "id": "0331d03a",
   "metadata": {},
   "outputs": [
    {
     "name": "stdout",
     "output_type": "stream",
     "text": [
      "Element-wise Addition: [ 6  8 10 12]\n",
      "Element-wise Multiplication: [ 5 12 21 32]\n",
      "Element-wise Subtraction: [-4 -4 -4 -4]\n",
      "Element-wise Division: [0.2        0.33333333 0.42857143 0.5       ]\n",
      "Square Root of a: [1.         1.41421356 1.73205081 2.        ]\n",
      "Exponential of b: [ 148.4131591   403.42879349 1096.63315843 2980.95798704]\n"
     ]
    }
   ],
   "source": [
    "## Numpy vectorization\n",
    "import numpy as np\n",
    "# Creating two arrays\n",
    "a = np.array([1, 2, 3, 4])\n",
    "b = np.array([5, 6, 7, 8])\n",
    "# Element-wise addition\n",
    "sum_ab = a + b\n",
    "print(\"Element-wise Addition:\", sum_ab)\n",
    "# Element-wise multiplication\n",
    "prod_ab = a * b\n",
    "print(\"Element-wise Multiplication:\", prod_ab)\n",
    "# Element-wise subtraction\n",
    "diff_ab = a - b\n",
    "print(\"Element-wise Subtraction:\", diff_ab)\n",
    "# Element-wise division\n",
    "div_ab = a / b\n",
    "print(\"Element-wise Division:\", div_ab)\n",
    "# Applying a mathematical function (e.g., square root)\n",
    "sqrt_a = np.sqrt(a)\n",
    "print(\"Square Root of a:\", sqrt_a)\n",
    "# Applying a mathematical function (e.g., exponential)\n",
    "exp_b = np.exp(b)\n",
    "print(\"Exponential of b:\", exp_b)\n"
   ]
  },
  {
   "cell_type": "code",
   "execution_count": null,
   "id": "4a652950",
   "metadata": {},
   "outputs": [],
   "source": []
  }
 ],
 "metadata": {
  "kernelspec": {
   "display_name": "base",
   "language": "python",
   "name": "python3"
  },
  "language_info": {
   "codemirror_mode": {
    "name": "ipython",
    "version": 3
   },
   "file_extension": ".py",
   "mimetype": "text/x-python",
   "name": "python",
   "nbconvert_exporter": "python",
   "pygments_lexer": "ipython3",
   "version": "3.13.5"
  }
 },
 "nbformat": 4,
 "nbformat_minor": 5
}
