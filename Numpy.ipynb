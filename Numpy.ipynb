{
 "cells": [
  {
   "cell_type": "code",
   "execution_count": 1,
   "id": "71b0d6a3-1e09-44d6-a9d3-f0f20c06611b",
   "metadata": {},
   "outputs": [],
   "source": [
    "import numpy as np"
   ]
  },
  {
   "cell_type": "code",
   "execution_count": 2,
   "id": "9e03610f",
   "metadata": {},
   "outputs": [
    {
     "name": "stdout",
     "output_type": "stream",
     "text": [
      "Array: [1 2 3 4 5]\n"
     ]
    }
   ],
   "source": [
    "arr1 = np.array([1, 2, 3, 4, 5])\n",
    "print(\"Array:\", arr1)"
   ]
  },
  {
   "cell_type": "code",
   "execution_count": 3,
   "id": "c2305ceb",
   "metadata": {},
   "outputs": [
    {
     "name": "stdout",
     "output_type": "stream",
     "text": [
      "Data type: int64\n",
      "Shape: (5,)\n",
      "Size: 5\n"
     ]
    }
   ],
   "source": [
    "print(\"Data type:\", arr1.dtype)\n",
    "print(\"Shape:\", arr1.shape) \n",
    "print(\"Size:\", arr1.size)"
   ]
  },
  {
   "cell_type": "code",
   "execution_count": 4,
   "id": "c0413974",
   "metadata": {},
   "outputs": [
    {
     "name": "stdout",
     "output_type": "stream",
     "text": [
      "(6,)\n",
      "(1, 6)\n",
      "[[1 2 3 4 5 6]]\n"
     ]
    }
   ],
   "source": [
    "arr=np.array([1, 2, 3, 4, 5, 6])\n",
    "print(arr.shape)\n",
    "arr = arr.reshape(1, 6)\n",
    "print(arr.shape)\n",
    "print(arr)"
   ]
  },
  {
   "cell_type": "code",
   "execution_count": 5,
   "id": "9f792ffe",
   "metadata": {},
   "outputs": [
    {
     "name": "stdout",
     "output_type": "stream",
     "text": [
      "2D Array:\n",
      " [[1 2 3]\n",
      " [4 5 6]]\n",
      "Shape: (2, 3)\n",
      "Size: 6\n",
      "Data type: int64\n",
      "Number of dimensions: 2\n"
     ]
    }
   ],
   "source": [
    "arr2= np.array([[1, 2, 3], [4, 5, 6]])\n",
    "print(\"2D Array:\\n\", arr2)\n",
    "print(\"Shape:\", arr2.shape)\n",
    "print(\"Size:\", arr2.size)\n",
    "print(\"Data type:\", arr2.dtype)\n",
    "print(\"Number of dimensions:\", arr2.ndim)"
   ]
  },
  {
   "cell_type": "code",
   "execution_count": 6,
   "id": "27d3cddd",
   "metadata": {},
   "outputs": [
    {
     "name": "stdout",
     "output_type": "stream",
     "text": [
      "1D Array: [1 2 3 4 5]\n",
      "Data type: int64\n",
      "Shape: (5,)\n",
      "Size: 5\n",
      "\n",
      "2D Array:\n",
      " [[1 2 3]\n",
      " [4 5 6]]\n",
      "Shape: (2, 3)\n",
      "Size: 6\n",
      "Number of dimensions: 2\n",
      "\n",
      "Original Array: [1 2 3 4 5 6]\n",
      "Reshaped Array (2x3):\n",
      " [[1 2 3]\n",
      " [4 5 6]]\n",
      "\n",
      "Array of Zeros (2x3):\n",
      " [[0. 0. 0.]\n",
      " [0. 0. 0.]]\n",
      "\n",
      "Array of Ones (3x2):\n",
      " [[1. 1.]\n",
      " [1. 1.]\n",
      " [1. 1.]]\n",
      "\n",
      "Identity Matrix (3x3):\n",
      " [[1. 0. 0.]\n",
      " [0. 1. 0.]\n",
      " [0. 0. 1.]]\n",
      "\n",
      "Random Array (2x3):\n",
      " [[0.507881   0.80777092 0.41748963]\n",
      " [0.11567628 0.32200785 0.4619723 ]]\n",
      "\n",
      "Concatenated Array: [1 2 3 4 5 6]\n",
      "\n",
      "Split Arrays: [array([1, 2]), array([3, 4]), array([5, 6])]\n",
      "\n",
      "Transposed Array:\n",
      " [[1 4]\n",
      " [2 5]\n",
      " [3 6]]\n",
      "\n",
      "Matrix Product:\n",
      " [[19 22]\n",
      " [43 50]]\n",
      "\n",
      "Sum: 15\n",
      "Mean: 3.0\n",
      "Standard Deviation: 1.4142135623730951\n",
      "Variance: 2.0\n",
      "Min: 1\n",
      "Max: 5\n",
      "Index of Min: 0\n",
      "Index of Max: 4\n",
      "\n",
      "Unique Elements: [1 2 3 4 5]\n"
     ]
    }
   ],
   "source": [
    "## Attributes of numpy arrays\n",
    "# dtype: Data type of the array elements\n",
    "# shape: Dimensions of the array\n",
    "# size: Total number of elements in the array\n",
    "# ndim: Number of dimensions (axes) of the array\n",
    "# reshape: Change the shape of the array without changing its data\n",
    "# flatten: Convert a multi-dimensional array into a 1D array\n",
    "# arange: Create arrays with regularly spaced values\n",
    "# linspace: Create arrays with a specified number of evenly spaced values over a specified interval\n",
    "# zeros: Create an array filled with zeros\n",
    "# ones: Create an array filled with ones\n",
    "# eye: Create an identity matrix\n",
    "# random: Generate arrays with random values\n",
    "# concatenate: Join two or more arrays along an axis\n",
    "# split: Split an array into multiple sub-arrays\n",
    "# transpose: Swap the axes of an array\n",
    "# dot: Perform matrix multiplication\n",
    "# sum, mean, std, var: Statistical operations on arrays\n",
    "# min, max: Find the minimum and maximum values in an array\n",
    "# argmin, argmax: Find the indices of the minimum and maximum values in an array\n",
    "# unique: Find the unique elements in an array\n",
    "# sort: Sort the elements of an array\n",
    "## Examples\n",
    "import numpy as np\n",
    "# Creating a 1D array\n",
    "arr1 = np.array([1, 2, 3, 4, 5])\n",
    "print(\"1D Array:\", arr1)\n",
    "print(\"Data type:\", arr1.dtype)\n",
    "print(\"Shape:\", arr1.shape)\n",
    "print(\"Size:\", arr1.size)\n",
    "# Creating a 2D array\n",
    "arr2 = np.array([[1, 2, 3], [4, 5, 6]])\n",
    "print(\"\\n2D Array:\\n\", arr2)\n",
    "print(\"Shape:\", arr2.shape)\n",
    "print(\"Size:\", arr2.size)\n",
    "print(\"Number of dimensions:\", arr2.ndim)\n",
    "# Reshaping an array\n",
    "arr3 = np.array([1, 2, 3, 4, 5, 6])\n",
    "print(\"\\nOriginal Array:\", arr3)\n",
    "reshaped_arr = arr3.reshape(2, 3)\n",
    "print(\"Reshaped Array (2x3):\\n\", reshaped_arr)\n",
    "# Creating an array of zeros\n",
    "zeros_arr = np.zeros((2, 3))\n",
    "print(\"\\nArray of Zeros (2x3):\\n\", zeros_arr)\n",
    "# Creating an array of ones\n",
    "ones_arr = np.ones((3, 2))\n",
    "print(\"\\nArray of Ones (3x2):\\n\", ones_arr)\n",
    "# Creating an identity matrix\n",
    "identity_matrix = np.eye(3)\n",
    "print(\"\\nIdentity Matrix (3x3):\\n\", identity_matrix)\n",
    "# Generating an array with random values\n",
    "random_arr = np.random.rand(2, 3)\n",
    "print(\"\\nRandom Array (2x3):\\n\", random_arr)\n",
    "# Concatenating two arrays\n",
    "arr4 = np.array([1, 2, 3])\n",
    "arr5 = np.array([4, 5, 6])\n",
    "concatenated_arr = np.concatenate((arr4, arr5))\n",
    "print(\"\\nConcatenated Array:\", concatenated_arr)\n",
    "# Splitting an array\n",
    "split_arr = np.array([1, 2, 3, 4, 5, 6])\n",
    "sub_arrays = np.split(split_arr, 3)\n",
    "print(\"\\nSplit Arrays:\", sub_arrays)\n",
    "# Transposing an array\n",
    "transposed_arr = arr2.T\n",
    "print(\"\\nTransposed Array:\\n\", transposed_arr)\n",
    "# Matrix multiplication\n",
    "mat1 = np.array([[1, 2], [3, 4]])\n",
    "mat2 = np.array([[5, 6], [7, 8]])\n",
    "matrix_product = np.dot(mat1, mat2)\n",
    "print(\"\\nMatrix Product:\\n\", matrix_product)\n",
    "# Statistical operations\n",
    "stats_arr = np.array([1, 2, 3, 4, 5])\n",
    "print(\"\\nSum:\", np.sum(stats_arr))\n",
    "print(\"Mean:\", np.mean(stats_arr))\n",
    "print(\"Standard Deviation:\", np.std(stats_arr))\n",
    "print(\"Variance:\", np.var(stats_arr))\n",
    "print(\"Min:\", np.min(stats_arr))\n",
    "print(\"Max:\", np.max(stats_arr))\n",
    "print(\"Index of Min:\", np.argmin(stats_arr))\n",
    "print(\"Index of Max:\", np.argmax(stats_arr))\n",
    "# Finding unique elements\n",
    "unique_arr = np.array([1, 2, 2, 3, 4, 4, 5])\n",
    "unique_elements = np.unique(unique_arr)\n",
    "print(\"\\nUnique Elements:\", unique_elements)"
   ]
  },
  {
   "cell_type": "code",
   "execution_count": 7,
   "id": "0331d03a",
   "metadata": {},
   "outputs": [
    {
     "name": "stdout",
     "output_type": "stream",
     "text": [
      "Element-wise Addition: [ 6  8 10 12]\n",
      "Element-wise Multiplication: [ 5 12 21 32]\n",
      "Element-wise Subtraction: [-4 -4 -4 -4]\n",
      "Element-wise Division: [0.2        0.33333333 0.42857143 0.5       ]\n",
      "Square Root of a: [1.         1.41421356 1.73205081 2.        ]\n",
      "Exponential of b: [ 148.4131591   403.42879349 1096.63315843 2980.95798704]\n"
     ]
    }
   ],
   "source": [
    "## Numpy vectorization\n",
    "import numpy as np\n",
    "# Creating two arrays\n",
    "a = np.array([1, 2, 3, 4])\n",
    "b = np.array([5, 6, 7, 8])\n",
    "# Element-wise addition\n",
    "sum_ab = a + b\n",
    "print(\"Element-wise Addition:\", sum_ab)\n",
    "# Element-wise multiplication\n",
    "prod_ab = a * b\n",
    "print(\"Element-wise Multiplication:\", prod_ab)\n",
    "# Element-wise subtraction\n",
    "diff_ab = a - b\n",
    "print(\"Element-wise Subtraction:\", diff_ab)\n",
    "# Element-wise division\n",
    "div_ab = a / b\n",
    "print(\"Element-wise Division:\", div_ab)\n",
    "# Applying a mathematical function (e.g., square root)\n",
    "sqrt_a = np.sqrt(a)\n",
    "print(\"Square Root of a:\", sqrt_a)\n",
    "# Applying a mathematical function (e.g., exponential)\n",
    "exp_b = np.exp(b)\n",
    "print(\"Exponential of b:\", exp_b)\n"
   ]
  },
  {
   "cell_type": "code",
   "execution_count": 8,
   "id": "4a652950",
   "metadata": {},
   "outputs": [
    {
     "name": "stdout",
     "output_type": "stream",
     "text": [
      "Square Roots: [1. 2. 3. 4. 5.]\n",
      "Exponentials: [2.71828183e+00 5.45981500e+01 8.10308393e+03 8.88611052e+06\n",
      " 7.20048993e+10]\n"
     ]
    }
   ],
   "source": [
    "## Universal functions (ufuncs) in NumPy\n",
    "import numpy as np\n",
    "# Creating an array\n",
    "arr = np.array([1, 4, 9, 16, 25])\n",
    "# Applying the square root ufunc\n",
    "sqrt_arr = np.sqrt(arr)\n",
    "print(\"Square Roots:\", sqrt_arr)\n",
    "# Applying the exponential ufunc\n",
    "exp_arr = np.exp(arr)\n",
    "print(\"Exponentials:\", exp_arr)\n"
   ]
  },
  {
   "cell_type": "code",
   "execution_count": 9,
   "id": "ae10ab1b",
   "metadata": {},
   "outputs": [
    {
     "name": "stdout",
     "output_type": "stream",
     "text": [
      "Sine Values: [ 0.0000000e+00  1.0000000e+00  1.2246468e-16 -1.0000000e+00\n",
      " -2.4492936e-16]\n",
      "Cosine Values: [ 1.0000000e+00  6.1232340e-17 -1.0000000e+00 -1.8369702e-16\n",
      "  1.0000000e+00]\n"
     ]
    }
   ],
   "source": [
    "## Sine and Cosine functions in NumPy\n",
    "import numpy as np\n",
    "# Creating an array of angles in radians\n",
    "angles = np.array([0, np.pi/2, np.pi, 3*np.pi/2, 2*np.pi])\n",
    "# Calculating the sine of the angles\n",
    "sine_values = np.sin(angles)\n",
    "print(\"Sine Values:\", sine_values)\n",
    "# Calculating the cosine of the angles\n",
    "cosine_values = np.cos(angles)\n",
    "print(\"Cosine Values:\", cosine_values)\n"
   ]
  },
  {
   "cell_type": "code",
   "execution_count": 10,
   "id": "e24dc54c",
   "metadata": {},
   "outputs": [
    {
     "name": "stdout",
     "output_type": "stream",
     "text": [
      "Sliced Array (1 to 3): [20 30 40]\n",
      "Element at Index 2: 30\n",
      "Sliced 2D Array (first 2 rows and columns):\n",
      " [[10 20]\n",
      " [40 50]]\n",
      "Element at Row 1, Column 2: 60\n",
      "Elements Greater than 30: [40 50]\n",
      "Fancy Indexed Elements (indices 0, 2, 4): [10 30 50]\n"
     ]
    }
   ],
   "source": [
    "## Slicing and Indexing in NumPy\n",
    "import numpy as np\n",
    "# Creating a 1D array\n",
    "arr1 = np.array([10, 20, 30, 40, 50])\n",
    "# Slicing the array (elements from index 1 to 3)\n",
    "slice1 = arr1[1:4]\n",
    "print(\"Sliced Array (1 to 3):\", slice1)\n",
    "# Accessing a specific element (index 2)\n",
    "element = arr1[2]\n",
    "print(\"Element at Index 2:\", element)\n",
    "# Creating a 2D array\n",
    "arr2 = np.array([[10, 20, 30], [40, 50, 60], [70, 80, 90]])\n",
    "# Slicing the array (first two rows and first two columns)\n",
    "slice2 = arr2[0:2, 0:2]\n",
    "print(\"Sliced 2D Array (first 2 rows and columns):\\n\", slice2)\n",
    "# Accessing a specific element (row 1, column 2)\n",
    "element2 = arr2[1, 2]\n",
    "print(\"Element at Row 1, Column 2:\", element2)\n",
    "# Boolean indexing (elements greater than 30)\n",
    "bool_index = arr1[arr1 > 30]\n",
    "print(\"Elements Greater than 30:\", bool_index)\n",
    "# Fancy indexing (accessing specific indices)\n",
    "fancy_index = arr1[[0, 2, 4]]\n",
    "print(\"Fancy Indexed Elements (indices 0, 2, 4):\", fancy_index)\n"
   ]
  },
  {
   "cell_type": "code",
   "execution_count": 11,
   "id": "cebf3db2",
   "metadata": {},
   "outputs": [
    {
     "name": "stdout",
     "output_type": "stream",
     "text": [
      "Min-Max Normalized Data: [0.   0.25 0.5  0.75 1.  ]\n",
      "Z-Score Normalized Data: [-1.41421356 -0.70710678  0.          0.70710678  1.41421356]\n",
      "Standardized Data: [-1.41421356 -0.70710678  0.          0.70710678  1.41421356]\n"
     ]
    }
   ],
   "source": [
    "## Statistical concepts -- Normalization\n",
    "import numpy as np\n",
    "# Creating an array\n",
    "data = np.array([10, 20, 30, 40, 50])\n",
    "# Min-Max Normalization\n",
    "min_val = np.min(data)\n",
    "max_val = np.max(data)\n",
    "normalized_data = (data - min_val) / (max_val - min_val)\n",
    "print(\"Min-Max Normalized Data:\", normalized_data)\n",
    "# Z-Score Normalization\n",
    "mean_val = np.mean(data)\n",
    "std_dev = np.std(data)\n",
    "z_score_normalized_data = (data - mean_val) / std_dev\n",
    "print(\"Z-Score Normalized Data:\", z_score_normalized_data)\n",
    "# Standardization\n",
    "standardized_data = (data - mean_val) / std_dev\n",
    "print(\"Standardized Data:\", standardized_data)"
   ]
  },
  {
   "cell_type": "code",
   "execution_count": null,
   "id": "4d51cfe3",
   "metadata": {},
   "outputs": [
    {
     "name": "stdout",
     "output_type": "stream",
     "text": [
      "Result after Broadcasting:\n",
      " [[11 22 33]\n",
      " [14 25 36]\n",
      " [17 28 39]]\n"
     ]
    }
   ],
   "source": []
  }
 ],
 "metadata": {
  "kernelspec": {
   "display_name": "base",
   "language": "python",
   "name": "python3"
  },
  "language_info": {
   "codemirror_mode": {
    "name": "ipython",
    "version": 3
   },
   "file_extension": ".py",
   "mimetype": "text/x-python",
   "name": "python",
   "nbconvert_exporter": "python",
   "pygments_lexer": "ipython3",
   "version": "3.13.5"
  }
 },
 "nbformat": 4,
 "nbformat_minor": 5
}
