{
 "cells": [
  {
   "cell_type": "code",
   "execution_count": 1,
   "id": "049b5fa4",
   "metadata": {},
   "outputs": [],
   "source": [
    "## SQL and SQLite\n",
    "import sqlite3\n",
    "import pandas as pd"
   ]
  },
  {
   "cell_type": "code",
   "execution_count": 2,
   "id": "d06f00a7",
   "metadata": {},
   "outputs": [
    {
     "data": {
      "text/plain": [
       "<sqlite3.Connection at 0x16b481030>"
      ]
     },
     "execution_count": 2,
     "metadata": {},
     "output_type": "execute_result"
    }
   ],
   "source": [
    "## Connect to SQLite database (or create it if it doesn't exist)\n",
    "conn = sqlite3.connect('example.db')\n",
    "conn"
   ]
  },
  {
   "cell_type": "code",
   "execution_count": 3,
   "id": "e4f6ae2d",
   "metadata": {},
   "outputs": [
    {
     "data": {
      "text/plain": [
       "<sqlite3.Cursor at 0x16b4c0f40>"
      ]
     },
     "execution_count": 3,
     "metadata": {},
     "output_type": "execute_result"
    }
   ],
   "source": [
    "## cursor object\n",
    "cursor = conn.cursor()\n",
    "cursor"
   ]
  },
  {
   "cell_type": "code",
   "execution_count": 4,
   "id": "e67f0633",
   "metadata": {},
   "outputs": [],
   "source": [
    "## Create a table\n",
    "cursor.execute('''CREATE TABLE IF NOT EXISTS users\n",
    "                  (id INTEGER PRIMARY KEY, name TEXT, age INTEGER)''')\n",
    "conn.commit()"
   ]
  },
  {
   "cell_type": "code",
   "execution_count": 5,
   "id": "e2f00fde",
   "metadata": {},
   "outputs": [
    {
     "data": {
      "text/plain": [
       "<sqlite3.Cursor at 0x16b4c0f40>"
      ]
     },
     "execution_count": 5,
     "metadata": {},
     "output_type": "execute_result"
    }
   ],
   "source": [
    "cursor.execute('''Select * from users''')"
   ]
  },
  {
   "cell_type": "code",
   "execution_count": 6,
   "id": "0059a51e",
   "metadata": {},
   "outputs": [],
   "source": [
    "## Insert data into the table\n",
    "cursor.execute(\"INSERT INTO users (name, age) VALUES ('Alice', 30)\")\n",
    "cursor.execute(\"INSERT INTO users (name, age) VALUES ('Bob', 25)\")\n",
    "conn.commit()"
   ]
  },
  {
   "cell_type": "code",
   "execution_count": 7,
   "id": "5117ebf6",
   "metadata": {},
   "outputs": [
    {
     "name": "stdout",
     "output_type": "stream",
     "text": [
      "(1, 'Alice', 31)\n",
      "(2, 'Alice', 31)\n",
      "(3, 'Alice', 31)\n",
      "(4, 'Alice', 30)\n",
      "(5, 'Bob', 25)\n"
     ]
    }
   ],
   "source": [
    "cursor.execute(\"Select * from users\")\n",
    "## Fetch all results from the executed query\n",
    "rows = cursor.fetchall()\n",
    "for row in rows:\n",
    "    print(row)"
   ]
  },
  {
   "cell_type": "code",
   "execution_count": 8,
   "id": "9e4a567c",
   "metadata": {},
   "outputs": [],
   "source": [
    "## Update data\n",
    "cursor.execute(\"UPDATE users SET age = 31 WHERE name = 'Alice'\")\n",
    "conn.commit()"
   ]
  },
  {
   "cell_type": "code",
   "execution_count": 9,
   "id": "adc72c66",
   "metadata": {},
   "outputs": [
    {
     "name": "stdout",
     "output_type": "stream",
     "text": [
      "(1, 'Alice', 31)\n",
      "(2, 'Alice', 31)\n",
      "(3, 'Alice', 31)\n",
      "(4, 'Alice', 31)\n",
      "(5, 'Bob', 25)\n"
     ]
    }
   ],
   "source": [
    "cursor.execute(\"Select * from users\")\n",
    "## Fetch all results from the executed query\n",
    "rows = cursor.fetchall()\n",
    "for row in rows:\n",
    "    print(row)"
   ]
  },
  {
   "cell_type": "code",
   "execution_count": 10,
   "id": "155b645a",
   "metadata": {},
   "outputs": [],
   "source": [
    "##Delete data\n",
    "cursor.execute(\"DELETE FROM users WHERE name = 'Bob'\")\n",
    "conn.commit()"
   ]
  },
  {
   "cell_type": "code",
   "execution_count": 11,
   "id": "e5adcb88",
   "metadata": {},
   "outputs": [
    {
     "name": "stdout",
     "output_type": "stream",
     "text": [
      "(1, 'Alice', 31)\n",
      "(2, 'Alice', 31)\n",
      "(3, 'Alice', 31)\n",
      "(4, 'Alice', 31)\n"
     ]
    }
   ],
   "source": [
    "cursor.execute(\"Select * from users\")\n",
    "## Fetch all results from the executed query\n",
    "rows = cursor.fetchall()\n",
    "for row in rows:\n",
    "    print(row)"
   ]
  },
  {
   "cell_type": "code",
   "execution_count": 12,
   "id": "ef1a65ce",
   "metadata": {},
   "outputs": [],
   "source": [
    "## Working with sales data\n",
    "# Create sales table\n",
    "connect = sqlite3.connect('sales.db')\n",
    "cursor = connect.cursor()\n",
    "cursor.execute('''CREATE TABLE IF NOT EXISTS sales\n",
    "                  (id INTEGER PRIMARY KEY, product TEXT, quantity INTEGER, price REAL)''')\n",
    "conn.commit()\n",
    "# Insert sample sales data\n",
    "sales_data = [\n",
    "    ('Laptop', 2, 999.99),\n",
    "    ('Smartphone', 5, 499.49),\n",
    "    ('Tablet', 3, 299.99)\n",
    "]\n",
    "cursor.executemany(\"INSERT INTO sales (product, quantity, price) VALUES (?, ?, ?)\", sales_data)\n",
    "conn.commit()   "
   ]
  },
  {
   "cell_type": "code",
   "execution_count": 13,
   "id": "c2fd49f5",
   "metadata": {},
   "outputs": [
    {
     "name": "stdout",
     "output_type": "stream",
     "text": [
      "(1, 'Laptop', 2, 999.99)\n",
      "(2, 'Smartphone', 5, 499.49)\n",
      "(3, 'Tablet', 3, 299.99)\n"
     ]
    }
   ],
   "source": [
    "cursor.execute(\"Select * from sales\")\n",
    "## Fetch all results from the executed query\n",
    "rows = cursor.fetchall()\n",
    "for row in rows:\n",
    "    print(row)"
   ]
  },
  {
   "cell_type": "code",
   "execution_count": null,
   "id": "5f044ba2",
   "metadata": {},
   "outputs": [],
   "source": []
  }
 ],
 "metadata": {
  "kernelspec": {
   "display_name": "base",
   "language": "python",
   "name": "python3"
  },
  "language_info": {
   "codemirror_mode": {
    "name": "ipython",
    "version": 3
   },
   "file_extension": ".py",
   "mimetype": "text/x-python",
   "name": "python",
   "nbconvert_exporter": "python",
   "pygments_lexer": "ipython3",
   "version": "3.13.5"
  }
 },
 "nbformat": 4,
 "nbformat_minor": 5
}
